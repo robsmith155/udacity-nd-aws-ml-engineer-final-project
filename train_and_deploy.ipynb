{
 "cells": [
  {
   "cell_type": "markdown",
   "metadata": {},
   "source": [
    "# Brain MRI segmentation\n",
    "In this notebook, we will train and deploy a segmentation model using AWS SageMaker."
   ]
  },
  {
   "cell_type": "markdown",
   "metadata": {},
   "source": [
    "## Setup\n",
    "### Import packages"
   ]
  },
  {
   "cell_type": "code",
   "execution_count": 1,
   "metadata": {},
   "outputs": [],
   "source": [
    "import os\n",
    "\n",
    "from sklearn.model_selection import train_test_split\n",
    "import yaml\n",
    "\n",
    "from src.data import create_kaggle_token_file, setup_brain_mri_dataset"
   ]
  },
  {
   "cell_type": "markdown",
   "metadata": {},
   "source": [
    "### Import configuration file"
   ]
  },
  {
   "cell_type": "markdown",
   "metadata": {},
   "source": [
    "The `config.yaml` file contains some import parameters that we will use throughout the notebook. For instance, it includes `DATA_ROOT_PATH`, which specifies where we will store the data locally. Currently this is set to `./data` (i.e. a folder named `data` will be created inside the folder where you are running this notebook), but you can choose a different location if you wish."
   ]
  },
  {
   "cell_type": "code",
   "execution_count": 2,
   "metadata": {},
   "outputs": [],
   "source": [
    "with open(\"config.yaml\", \"r\") as f:\n",
    "    config = yaml.load(f, Loader=yaml.FullLoader)"
   ]
  },
  {
   "cell_type": "code",
   "execution_count": 3,
   "metadata": {},
   "outputs": [
    {
     "data": {
      "text/plain": [
       "{'DATA_ROOT_PATH': './data',\n",
       " 'DATA_ZIP_FILENAME': 'lgg-mri-segmentation.zip',\n",
       " 'DUMMY_IAM_ROLE': 'arn:aws:iam::111111111111:role/service-role/AmazonSageMaker-ExecutionRole-20200101T000001',\n",
       " 'KAGGLE_DATASET': 'mateuszbuda/lgg-mri-segmentation'}"
      ]
     },
     "execution_count": 3,
     "metadata": {},
     "output_type": "execute_result"
    }
   ],
   "source": [
    "config"
   ]
  },
  {
   "cell_type": "markdown",
   "metadata": {},
   "source": [
    "# Dataset\n",
    "Here we will download the data from Kaggle. First we need to get your Kaggle API token.\n",
    "\n",
    "## Retrieve Kaggle user token"
   ]
  },
  {
   "cell_type": "markdown",
   "metadata": {},
   "source": [
    "To download the dataset using the [Kaggle CLI](https://github.com/Kaggle/kaggle-api) we need to create an API token. So that we don't need to recreate this everytime we want to interact with Kaggle, we can place it in a file located at `~/.kaggle/kaggle.json` (where `~` represents the users home directory). Here we can use the `create_kaggle_token_file` to create this file and make sure it has the correct permissions. \n",
    "\n",
    "Before running this you will need to login to your Kaggle account and create a new API token (if you don't already have one). \n",
    "\n",
    "1. Go to your Kaggle account\n",
    "\n",
    "Sign into [Kaggle](https://www.kaggle.com/) and click on your profile picture (top right corner). Select `Account`.\n",
    "\n",
    "<img src=\"./imgs/create-kaggle-api1.png\">\n",
    "\n",
    "2. Create new API token\n",
    "\n",
    "Now scroll down to the API section and click on `Create New API Token`.\n",
    "\n",
    "<img src=\"./imgs/create-kaggle-api2.png\">"
   ]
  },
  {
   "cell_type": "markdown",
   "metadata": {},
   "source": [
    "Now run the `create_kaggle_token_file` function below and enter your Kaggle user name and the token you just downloaded when prompted."
   ]
  },
  {
   "cell_type": "code",
   "execution_count": 4,
   "metadata": {},
   "outputs": [
    {
     "name": "stderr",
     "output_type": "stream",
     "text": [
      "2022-08-06 12:21:24,021 Kaggle token file already created in /home/robsmith155/.kaggle/kaggle.json.\n"
     ]
    }
   ],
   "source": [
    "create_kaggle_token_file()"
   ]
  },
  {
   "cell_type": "markdown",
   "metadata": {},
   "source": [
    "## Download data"
   ]
  },
  {
   "cell_type": "markdown",
   "metadata": {},
   "source": [
    "Now we can download and extract the dataset from [Kaggle](https://www.kaggle.com/datasets/mateuszbuda/lgg-mri-segmentation). In the `src.data` module I've put a function named `setup_brain_mri_dataset`. This will perform the following tasks:\n",
    "- Download the dataset from Kaggle\n",
    "- Extract the contents of the downloaded zip file\n",
    "- Sort the data into train, val and test dataset folders\n",
    "\n",
    "Note that the data downloaded from Kaggle has not been split into datasets for us. Therefore this was included in the setup function. Here I ran some tests beforehand to make sure that the split of positive and negative slices is approximately consistent between the datasets. We will reviist this in the EDA section of the notebook."
   ]
  },
  {
   "cell_type": "code",
   "execution_count": 5,
   "metadata": {},
   "outputs": [
    {
     "name": "stderr",
     "output_type": "stream",
     "text": [
      "2022-08-06 12:21:25,956 Starting download of mateuszbuda/lgg-mri-segmentation dataset from Kaggle.\n"
     ]
    },
    {
     "name": "stdout",
     "output_type": "stream",
     "text": [
      "Downloading lgg-mri-segmentation.zip to ./data\n"
     ]
    },
    {
     "name": "stderr",
     "output_type": "stream",
     "text": [
      "100%|██████████| 714M/714M [00:58<00:00, 12.9MB/s] \n",
      "2022-08-06 12:22:25,896 Finished downloading data. Data downloaded to ./data\n",
      "2022-08-06 12:22:26,034 Starting extraction of data stored in ./data/lgg-mri-segmentation.zip.\n"
     ]
    },
    {
     "name": "stdout",
     "output_type": "stream",
     "text": [
      "\n"
     ]
    },
    {
     "name": "stderr",
     "output_type": "stream",
     "text": [
      "2022-08-06 12:22:36,746 Dataset extracted in ./data\n",
      "2022-08-06 12:22:36,748 Starting splitting of data into train, val and test datasets.\n",
      "2022-08-06 12:22:36,750 Created ./data/train directory.\n",
      "2022-08-06 12:22:36,751 Moved ./data/lgg-mri-segmentation/kaggle_3m/TCGA_DU_A5TY_19970709 to ./data/train.\n",
      "2022-08-06 12:22:36,752 Moved ./data/lgg-mri-segmentation/kaggle_3m/TCGA_FG_6692_20020606 to ./data/train.\n",
      "2022-08-06 12:22:36,753 Moved ./data/lgg-mri-segmentation/kaggle_3m/TCGA_CS_6186_20000601 to ./data/train.\n",
      "2022-08-06 12:22:36,753 Moved ./data/lgg-mri-segmentation/kaggle_3m/TCGA_HT_A616_19991226 to ./data/train.\n",
      "2022-08-06 12:22:36,754 Moved ./data/lgg-mri-segmentation/kaggle_3m/TCGA_DU_7300_19910814 to ./data/train.\n",
      "2022-08-06 12:22:36,755 Moved ./data/lgg-mri-segmentation/kaggle_3m/TCGA_CS_5395_19981004 to ./data/train.\n",
      "2022-08-06 12:22:36,755 Moved ./data/lgg-mri-segmentation/kaggle_3m/TCGA_DU_A5TW_19980228 to ./data/train.\n",
      "2022-08-06 12:22:36,756 Moved ./data/lgg-mri-segmentation/kaggle_3m/TCGA_FG_5964_20010511 to ./data/train.\n",
      "2022-08-06 12:22:36,757 Moved ./data/lgg-mri-segmentation/kaggle_3m/TCGA_HT_8563_19981209 to ./data/train.\n",
      "2022-08-06 12:22:36,758 Moved ./data/lgg-mri-segmentation/kaggle_3m/TCGA_DU_7309_19960831 to ./data/train.\n",
      "2022-08-06 12:22:36,758 Moved ./data/lgg-mri-segmentation/kaggle_3m/TCGA_HT_7690_19960312 to ./data/train.\n",
      "2022-08-06 12:22:36,759 Moved ./data/lgg-mri-segmentation/kaggle_3m/TCGA_DU_5852_19950709 to ./data/train.\n",
      "2022-08-06 12:22:36,760 Moved ./data/lgg-mri-segmentation/kaggle_3m/TCGA_DU_6404_19850629 to ./data/train.\n",
      "2022-08-06 12:22:36,760 Moved ./data/lgg-mri-segmentation/kaggle_3m/TCGA_DU_8164_19970111 to ./data/train.\n",
      "2022-08-06 12:22:36,761 Moved ./data/lgg-mri-segmentation/kaggle_3m/TCGA_CS_6669_20020102 to ./data/train.\n",
      "2022-08-06 12:22:36,762 Moved ./data/lgg-mri-segmentation/kaggle_3m/TCGA_FG_A60K_20040224 to ./data/train.\n",
      "2022-08-06 12:22:36,763 Moved ./data/lgg-mri-segmentation/kaggle_3m/TCGA_CS_4941_19960909 to ./data/train.\n",
      "2022-08-06 12:22:36,763 Moved ./data/lgg-mri-segmentation/kaggle_3m/TCGA_HT_7882_19970125 to ./data/train.\n",
      "2022-08-06 12:22:36,764 Moved ./data/lgg-mri-segmentation/kaggle_3m/TCGA_FG_A4MU_20030903 to ./data/train.\n",
      "2022-08-06 12:22:36,765 Moved ./data/lgg-mri-segmentation/kaggle_3m/TCGA_DU_7302_19911203 to ./data/train.\n",
      "2022-08-06 12:22:36,765 Moved ./data/lgg-mri-segmentation/kaggle_3m/TCGA_DU_7298_19910324 to ./data/train.\n",
      "2022-08-06 12:22:36,766 Moved ./data/lgg-mri-segmentation/kaggle_3m/TCGA_HT_8018_19970411 to ./data/train.\n",
      "2022-08-06 12:22:36,766 Moved ./data/lgg-mri-segmentation/kaggle_3m/TCGA_CS_6188_20010812 to ./data/train.\n",
      "2022-08-06 12:22:36,767 Moved ./data/lgg-mri-segmentation/kaggle_3m/TCGA_CS_6667_20011105 to ./data/train.\n",
      "2022-08-06 12:22:36,767 Moved ./data/lgg-mri-segmentation/kaggle_3m/TCGA_DU_5871_19941206 to ./data/train.\n",
      "2022-08-06 12:22:36,768 Moved ./data/lgg-mri-segmentation/kaggle_3m/TCGA_FG_6688_20020215 to ./data/train.\n",
      "2022-08-06 12:22:36,769 Moved ./data/lgg-mri-segmentation/kaggle_3m/TCGA_DU_7299_19910417 to ./data/train.\n",
      "2022-08-06 12:22:36,769 Moved ./data/lgg-mri-segmentation/kaggle_3m/TCGA_HT_8106_19970727 to ./data/train.\n",
      "2022-08-06 12:22:36,770 Moved ./data/lgg-mri-segmentation/kaggle_3m/TCGA_FG_6691_20020405 to ./data/train.\n",
      "2022-08-06 12:22:36,771 Moved ./data/lgg-mri-segmentation/kaggle_3m/TCGA_HT_7860_19960513 to ./data/train.\n",
      "2022-08-06 12:22:36,771 Moved ./data/lgg-mri-segmentation/kaggle_3m/TCGA_DU_7014_19860618 to ./data/train.\n",
      "2022-08-06 12:22:36,772 Moved ./data/lgg-mri-segmentation/kaggle_3m/TCGA_FG_6689_20020326 to ./data/train.\n",
      "2022-08-06 12:22:36,773 Moved ./data/lgg-mri-segmentation/kaggle_3m/TCGA_CS_4944_20010208 to ./data/train.\n",
      "2022-08-06 12:22:36,773 Moved ./data/lgg-mri-segmentation/kaggle_3m/TCGA_HT_A61A_20000127 to ./data/train.\n",
      "2022-08-06 12:22:36,774 Moved ./data/lgg-mri-segmentation/kaggle_3m/TCGA_DU_8162_19961029 to ./data/train.\n",
      "2022-08-06 12:22:36,775 Moved ./data/lgg-mri-segmentation/kaggle_3m/TCGA_DU_7008_19830723 to ./data/train.\n",
      "2022-08-06 12:22:36,776 Moved ./data/lgg-mri-segmentation/kaggle_3m/TCGA_DU_6408_19860521 to ./data/train.\n",
      "2022-08-06 12:22:36,776 Moved ./data/lgg-mri-segmentation/kaggle_3m/TCGA_HT_7693_19950520 to ./data/train.\n",
      "2022-08-06 12:22:36,777 Moved ./data/lgg-mri-segmentation/kaggle_3m/TCGA_CS_4943_20000902 to ./data/train.\n",
      "2022-08-06 12:22:36,778 Moved ./data/lgg-mri-segmentation/kaggle_3m/TCGA_DU_A5TP_19970614 to ./data/train.\n",
      "2022-08-06 12:22:36,778 Moved ./data/lgg-mri-segmentation/kaggle_3m/TCGA_DU_6401_19831001 to ./data/train.\n",
      "2022-08-06 12:22:36,779 Moved ./data/lgg-mri-segmentation/kaggle_3m/TCGA_CS_5397_20010315 to ./data/train.\n",
      "2022-08-06 12:22:36,780 Moved ./data/lgg-mri-segmentation/kaggle_3m/TCGA_DU_6399_19830416 to ./data/train.\n",
      "2022-08-06 12:22:36,781 Moved ./data/lgg-mri-segmentation/kaggle_3m/TCGA_HT_7680_19970202 to ./data/train.\n",
      "2022-08-06 12:22:36,781 Moved ./data/lgg-mri-segmentation/kaggle_3m/TCGA_DU_6407_19860514 to ./data/train.\n",
      "2022-08-06 12:22:36,782 Moved ./data/lgg-mri-segmentation/kaggle_3m/TCGA_DU_7294_19890104 to ./data/train.\n",
      "2022-08-06 12:22:36,783 Moved ./data/lgg-mri-segmentation/kaggle_3m/TCGA_FG_A4MT_20020212 to ./data/train.\n",
      "2022-08-06 12:22:36,783 Moved ./data/lgg-mri-segmentation/kaggle_3m/TCGA_HT_7616_19940813 to ./data/train.\n",
      "2022-08-06 12:22:36,784 Moved ./data/lgg-mri-segmentation/kaggle_3m/TCGA_DU_7013_19860523 to ./data/train.\n",
      "2022-08-06 12:22:36,785 Moved ./data/lgg-mri-segmentation/kaggle_3m/TCGA_CS_4942_19970222 to ./data/train.\n",
      "2022-08-06 12:22:36,786 Moved ./data/lgg-mri-segmentation/kaggle_3m/TCGA_DU_8166_19970322 to ./data/train.\n",
      "2022-08-06 12:22:36,786 Moved ./data/lgg-mri-segmentation/kaggle_3m/TCGA_HT_7473_19970826 to ./data/train.\n",
      "2022-08-06 12:22:36,787 Moved ./data/lgg-mri-segmentation/kaggle_3m/TCGA_HT_7881_19981015 to ./data/train.\n",
      "2022-08-06 12:22:36,788 Moved ./data/lgg-mri-segmentation/kaggle_3m/TCGA_CS_6666_20011109 to ./data/train.\n",
      "2022-08-06 12:22:36,788 Moved ./data/lgg-mri-segmentation/kaggle_3m/TCGA_DU_7301_19911112 to ./data/train.\n",
      "2022-08-06 12:22:36,789 Moved ./data/lgg-mri-segmentation/kaggle_3m/TCGA_FG_5962_20000626 to ./data/train.\n",
      "2022-08-06 12:22:36,790 Moved ./data/lgg-mri-segmentation/kaggle_3m/TCGA_DU_8165_19970205 to ./data/train.\n",
      "2022-08-06 12:22:36,792 Moved ./data/lgg-mri-segmentation/kaggle_3m/TCGA_DU_5851_19950428 to ./data/train.\n",
      "2022-08-06 12:22:36,793 Moved ./data/lgg-mri-segmentation/kaggle_3m/TCGA_DU_5855_19951217 to ./data/train.\n",
      "2022-08-06 12:22:36,794 Moved ./data/lgg-mri-segmentation/kaggle_3m/TCGA_FG_7637_20000922 to ./data/train.\n",
      "2022-08-06 12:22:36,796 Moved ./data/lgg-mri-segmentation/kaggle_3m/TCGA_DU_6405_19851005 to ./data/train.\n",
      "2022-08-06 12:22:36,796 Moved ./data/lgg-mri-segmentation/kaggle_3m/TCGA_FG_6690_20020226 to ./data/train.\n",
      "2022-08-06 12:22:36,797 Moved ./data/lgg-mri-segmentation/kaggle_3m/TCGA_DU_5849_19950405 to ./data/train.\n",
      "2022-08-06 12:22:36,798 Moved ./data/lgg-mri-segmentation/kaggle_3m/TCGA_HT_7605_19950916 to ./data/train.\n",
      "2022-08-06 12:22:36,799 Moved ./data/lgg-mri-segmentation/kaggle_3m/TCGA_DU_7304_19930325 to ./data/train.\n",
      "2022-08-06 12:22:36,800 Moved ./data/lgg-mri-segmentation/kaggle_3m/TCGA_HT_7877_19980917 to ./data/train.\n",
      "2022-08-06 12:22:36,801 Moved ./data/lgg-mri-segmentation/kaggle_3m/TCGA_FG_7643_20021104 to ./data/train.\n",
      "2022-08-06 12:22:36,802 Moved ./data/lgg-mri-segmentation/kaggle_3m/TCGA_HT_7686_19950629 to ./data/train.\n",
      "2022-08-06 12:22:36,802 Moved ./data/lgg-mri-segmentation/kaggle_3m/TCGA_HT_7684_19950816 to ./data/train.\n",
      "2022-08-06 12:22:36,803 Moved ./data/lgg-mri-segmentation/kaggle_3m/TCGA_DU_8168_19970503 to ./data/train.\n",
      "2022-08-06 12:22:36,805 Moved ./data/lgg-mri-segmentation/kaggle_3m/TCGA_HT_8111_19980330 to ./data/train.\n",
      "2022-08-06 12:22:36,806 Moved ./data/lgg-mri-segmentation/kaggle_3m/TCGA_CS_5396_20010302 to ./data/train.\n",
      "2022-08-06 12:22:36,807 Moved ./data/lgg-mri-segmentation/kaggle_3m/TCGA_HT_8105_19980826 to ./data/train.\n",
      "2022-08-06 12:22:36,807 Moved ./data/lgg-mri-segmentation/kaggle_3m/TCGA_EZ_7264_20010816 to ./data/train.\n",
      "2022-08-06 12:22:36,808 Moved ./data/lgg-mri-segmentation/kaggle_3m/TCGA_DU_5854_19951104 to ./data/train.\n",
      "2022-08-06 12:22:36,809 Moved ./data/lgg-mri-segmentation/kaggle_3m/TCGA_CS_6665_20010817 to ./data/train.\n",
      "2022-08-06 12:22:36,810 Moved ./data/lgg-mri-segmentation/kaggle_3m/TCGA_DU_6400_19830518 to ./data/train.\n",
      "2022-08-06 12:22:36,811 Moved ./data/lgg-mri-segmentation/kaggle_3m/TCGA_HT_A61B_19991127 to ./data/train.\n",
      "2022-08-06 12:22:36,812 Moved ./data/lgg-mri-segmentation/kaggle_3m/TCGA_FG_8189_20030516 to ./data/train.\n",
      "2022-08-06 12:22:36,814 Moved ./data/lgg-mri-segmentation/kaggle_3m/TCGA_CS_5393_19990606 to ./data/train.\n",
      "2022-08-06 12:22:36,815 Moved ./data/lgg-mri-segmentation/kaggle_3m/TCGA_HT_7855_19951020 to ./data/train.\n",
      "2022-08-06 12:22:36,816 Moved ./data/lgg-mri-segmentation/kaggle_3m/TCGA_DU_8163_19961119 to ./data/train.\n",
      "2022-08-06 12:22:36,817 Moved ./data/lgg-mri-segmentation/kaggle_3m/TCGA_DU_7018_19911220 to ./data/train.\n",
      "2022-08-06 12:22:36,817 Moved ./data/lgg-mri-segmentation/kaggle_3m/TCGA_HT_7884_19980913 to ./data/train.\n",
      "2022-08-06 12:22:36,818 Moved ./data/lgg-mri-segmentation/kaggle_3m/TCGA_HT_7475_19970918 to ./data/train.\n",
      "2022-08-06 12:22:36,819 Moved ./data/lgg-mri-segmentation/kaggle_3m/TCGA_HT_8114_19981030 to ./data/train.\n",
      "2022-08-06 12:22:36,820 Moved ./data/lgg-mri-segmentation/kaggle_3m/TCGA_DU_7010_19860307 to ./data/train.\n",
      "2022-08-06 12:22:36,821 Moved ./data/lgg-mri-segmentation/kaggle_3m/TCGA_DU_5874_19950510 to ./data/train.\n",
      "2022-08-06 12:22:36,822 Created ./data/val directory.\n",
      "2022-08-06 12:22:36,823 Moved ./data/lgg-mri-segmentation/kaggle_3m/TCGA_HT_8113_19930809 to ./data/val.\n",
      "2022-08-06 12:22:36,824 Moved ./data/lgg-mri-segmentation/kaggle_3m/TCGA_HT_7602_19951103 to ./data/val.\n",
      "2022-08-06 12:22:36,826 Moved ./data/lgg-mri-segmentation/kaggle_3m/TCGA_DU_A5TR_19970726 to ./data/val.\n",
      "2022-08-06 12:22:36,826 Moved ./data/lgg-mri-segmentation/kaggle_3m/TCGA_DU_A5TT_19980318 to ./data/val.\n",
      "2022-08-06 12:22:36,827 Moved ./data/lgg-mri-segmentation/kaggle_3m/TCGA_DU_7306_19930512 to ./data/val.\n",
      "2022-08-06 12:22:36,828 Moved ./data/lgg-mri-segmentation/kaggle_3m/TCGA_CS_6668_20011025 to ./data/val.\n",
      "2022-08-06 12:22:36,829 Moved ./data/lgg-mri-segmentation/kaggle_3m/TCGA_DU_A5TU_19980312 to ./data/val.\n",
      "2022-08-06 12:22:36,830 Moved ./data/lgg-mri-segmentation/kaggle_3m/TCGA_HT_A5RC_19990831 to ./data/val.\n",
      "2022-08-06 12:22:36,831 Moved ./data/lgg-mri-segmentation/kaggle_3m/TCGA_DU_A5TS_19970726 to ./data/val.\n",
      "2022-08-06 12:22:36,832 Moved ./data/lgg-mri-segmentation/kaggle_3m/TCGA_DU_5853_19950823 to ./data/val.\n",
      "2022-08-06 12:22:36,833 Moved ./data/lgg-mri-segmentation/kaggle_3m/TCGA_HT_7879_19981009 to ./data/val.\n",
      "2022-08-06 12:22:36,834 Created ./data/test directory.\n",
      "2022-08-06 12:22:36,835 Moved ./data/lgg-mri-segmentation/kaggle_3m/TCGA_HT_7608_19940304 to ./data/test.\n",
      "2022-08-06 12:22:36,836 Moved ./data/lgg-mri-segmentation/kaggle_3m/TCGA_DU_8167_19970402 to ./data/test.\n",
      "2022-08-06 12:22:36,838 Moved ./data/lgg-mri-segmentation/kaggle_3m/TCGA_CS_6290_20000917 to ./data/test.\n",
      "2022-08-06 12:22:36,839 Moved ./data/lgg-mri-segmentation/kaggle_3m/TCGA_DU_7019_19940908 to ./data/test.\n",
      "2022-08-06 12:22:36,840 Moved ./data/lgg-mri-segmentation/kaggle_3m/TCGA_HT_7692_19960724 to ./data/test.\n",
      "2022-08-06 12:22:36,841 Moved ./data/lgg-mri-segmentation/kaggle_3m/TCGA_HT_7694_19950404 to ./data/test.\n",
      "2022-08-06 12:22:36,842 Moved ./data/lgg-mri-segmentation/kaggle_3m/TCGA_HT_8107_19980708 to ./data/test.\n",
      "2022-08-06 12:22:36,843 Moved ./data/lgg-mri-segmentation/kaggle_3m/TCGA_HT_7856_19950831 to ./data/test.\n",
      "2022-08-06 12:22:36,844 Moved ./data/lgg-mri-segmentation/kaggle_3m/TCGA_HT_7874_19950902 to ./data/test.\n",
      "2022-08-06 12:22:36,844 Moved ./data/lgg-mri-segmentation/kaggle_3m/TCGA_DU_5872_19950223 to ./data/test.\n",
      "2022-08-06 12:22:36,846 Moved ./data/lgg-mri-segmentation/kaggle_3m/TCGA_FG_7634_20000128 to ./data/test.\n",
      "2022-08-06 12:22:36,847 Finished splitting into train, validation and test datasets.\n"
     ]
    }
   ],
   "source": [
    "setup_brain_mri_dataset(data_root_path=config['DATA_ROOT_PATH'])"
   ]
  },
  {
   "cell_type": "code",
   "execution_count": null,
   "metadata": {},
   "outputs": [],
   "source": []
  }
 ],
 "metadata": {
  "kernelspec": {
   "display_name": "Python 3.8.13 ('venv': venv)",
   "language": "python",
   "name": "python3"
  },
  "language_info": {
   "codemirror_mode": {
    "name": "ipython",
    "version": 3
   },
   "file_extension": ".py",
   "mimetype": "text/x-python",
   "name": "python",
   "nbconvert_exporter": "python",
   "pygments_lexer": "ipython3",
   "version": "3.8.13"
  },
  "orig_nbformat": 4,
  "vscode": {
   "interpreter": {
    "hash": "b7c329a0b633782b12a91ef80cd810f65bbecbfe7c8ff252c58e18c61de99f52"
   }
  }
 },
 "nbformat": 4,
 "nbformat_minor": 2
}
